{
 "cells": [
  {
   "cell_type": "code",
   "execution_count": null,
   "metadata": {},
   "outputs": [],
   "source": [
    "import random\n",
    "\n",
    "random_number = random.randint(1, 10)\n",
    "print(random_number)\n",
    "random_float = random.uniform(1.0, 10.0)\n",
    "print(random_float)\n",
    "fruits = ['apple', 'banana', 'cherry']\n",
    "random_fruit = random.choice(fruits)\n",
    "print(random_fruit)\n",
    "colors = ['red', 'green', 'blue', 'yellow', 'purple']\n",
    "random_sample = random.sample(colors, 3)\n",
    "print(random_sample)\n",
    "deck_of_cards = ['Ace', '2', '3', '4', '5', '6', '7', '8', '9', '10', 'Jack', 'Queen', 'King']\n",
    "random.shuffle(deck_of_cards)\n",
    "print(deck_of_cards)"
   ]
  }
 ],
 "metadata": {
  "kernelspec": {
   "display_name": "Python 3 (ipykernel)",
   "language": "python",
   "name": "python3"
  },
  "language_info": {
   "codemirror_mode": {
    "name": "ipython",
    "version": 3
   },
   "file_extension": ".py",
   "mimetype": "text/x-python",
   "name": "python",
   "nbconvert_exporter": "python",
   "pygments_lexer": "ipython3",
   "version": "3.12.4"
  }
 },
 "nbformat": 4,
 "nbformat_minor": 4
}
