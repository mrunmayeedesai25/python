{
 "cells": [
  {
   "cell_type": "code",
   "execution_count": 5,
   "id": "0c3b7103-4601-4202-baaf-a5152b4afeb6",
   "metadata": {},
   "outputs": [
    {
     "name": "stdout",
     "output_type": "stream",
     "text": [
      "{1, 2, 3, 7}\n",
      "{'Apple', 'Orange', 'Banana', 'Cherry'}\n"
     ]
    }
   ],
   "source": [
    "#set - add method\n",
    "x={1,2,3}\n",
    "x.add(7)\n",
    "print(x)\n",
    "y={\"Apple\",\"Banana\",\"Orange\"}\n",
    "y.add(\"Cherry\")\n",
    "print(y)"
   ]
  },
  {
   "cell_type": "code",
   "execution_count": 3,
   "id": "ef587d1c-c4d8-4306-8250-a052ad700074",
   "metadata": {},
   "outputs": [
    {
     "name": "stdout",
     "output_type": "stream",
     "text": [
      "set()\n"
     ]
    }
   ],
   "source": [
    "#clear\n",
    "x={1,2,3}\n",
    "x.clear()\n",
    "print(x)"
   ]
  },
  {
   "cell_type": "code",
   "execution_count": 4,
   "id": "42db7731-fbe4-4cc0-81dd-e06ddfa00bec",
   "metadata": {},
   "outputs": [
    {
     "name": "stdout",
     "output_type": "stream",
     "text": [
      "{8, 5, 6, 7}\n"
     ]
    }
   ],
   "source": [
    "#copy\n",
    "y={5,6,7,8}\n",
    "r=y.copy()\n",
    "print(r)"
   ]
  },
  {
   "cell_type": "code",
   "execution_count": 7,
   "id": "a22e6b27-290f-4b80-92f5-750f2e6a0db7",
   "metadata": {},
   "outputs": [
    {
     "name": "stdout",
     "output_type": "stream",
     "text": [
      "{'Apple', 'Orange'}\n"
     ]
    }
   ],
   "source": [
    "#diff\n",
    "y={\"Apple\",\"Banana\",\"Orange\"}\n",
    "x={\"Banana\",\"Mango\"}\n",
    "d=y.difference(x)\n",
    "print(d)"
   ]
  },
  {
   "cell_type": "code",
   "execution_count": 24,
   "id": "b16d6ca4-081d-4b6a-9027-93887d13e543",
   "metadata": {},
   "outputs": [
    {
     "name": "stdout",
     "output_type": "stream",
     "text": [
      "{'Orange'}\n"
     ]
    }
   ],
   "source": [
    "#diff_update\n",
    "y={\"Apple\",\"Banana\",\"Orange\"}\n",
    "x={\"Banana\",\"Mango\",\"Apple\"}\n",
    "y.difference_update(x)\n",
    "print(y)"
   ]
  },
  {
   "cell_type": "code",
   "execution_count": 14,
   "id": "02cf3ea1-7a7e-44bb-90f8-7e0387addc8c",
   "metadata": {},
   "outputs": [
    {
     "name": "stdout",
     "output_type": "stream",
     "text": [
      "True\n"
     ]
    }
   ],
   "source": [
    "#superset\n",
    "x={\"a\",\"c\",7,\"f\",\"y\",\"e\",\"u\",\"q\"}\n",
    "y={\"y\",\"a\",7}\n",
    "z=x.issuperset(y)\n",
    "print(z)"
   ]
  },
  {
   "cell_type": "code",
   "execution_count": 15,
   "id": "a6a9ef55-ede1-46bf-94c8-bb028fb738e7",
   "metadata": {},
   "outputs": [
    {
     "name": "stdout",
     "output_type": "stream",
     "text": [
      "{7, 'a'}\n"
     ]
    }
   ],
   "source": [
    "#pop\n",
    "y={\"y\",\"a\",7}\n",
    "y.pop()\n",
    "print(y)"
   ]
  },
  {
   "cell_type": "code",
   "execution_count": 18,
   "id": "a8de812a-0024-40f4-b084-0c10aaf62bc4",
   "metadata": {},
   "outputs": [
    {
     "name": "stdout",
     "output_type": "stream",
     "text": [
      "{'Apple', 'Banana'}\n"
     ]
    }
   ],
   "source": [
    "#remove\n",
    "x={\"Banana\",\"Mango\",\"Apple\"}\n",
    "x.remove(\"Mango\")\n",
    "print(x)"
   ]
  },
  {
   "cell_type": "code",
   "execution_count": 22,
   "id": "03922e44-009e-4261-928c-5caa95a085a2",
   "metadata": {},
   "outputs": [
    {
     "name": "stdout",
     "output_type": "stream",
     "text": [
      "{'Apple', 'Cherry'}\n"
     ]
    }
   ],
   "source": [
    "#symmetric_diff\n",
    "x={\"Banana\",\"Mango\",\"Apple\"}\n",
    "y={\"Banana\",\"Mango\",\"Cherry\"}\n",
    "z=x.symmetric_difference(y)\n",
    "print(z)"
   ]
  },
  {
   "cell_type": "code",
   "execution_count": 23,
   "id": "5e09c2cc-a118-48b0-a388-aaf802c2ee94",
   "metadata": {},
   "outputs": [
    {
     "name": "stdout",
     "output_type": "stream",
     "text": [
      "{'Apple', 'Cherry'}\n"
     ]
    }
   ],
   "source": [
    "#symmetric_diff_update\n",
    "x={\"Banana\",\"Mango\",\"Apple\"}\n",
    "y={\"Banana\",\"Mango\",\"Cherry\"}\n",
    "x.symmetric_difference_update(y)\n",
    "print(x)"
   ]
  },
  {
   "cell_type": "code",
   "execution_count": 25,
   "id": "a2471269-328f-485d-b838-444dbf791e46",
   "metadata": {},
   "outputs": [
    {
     "name": "stdout",
     "output_type": "stream",
     "text": [
      "{'Mango', 'Apple', 'Banana', 'Cherry'}\n"
     ]
    }
   ],
   "source": [
    "#union\n",
    "x={\"Banana\",\"Mango\",\"Apple\"}\n",
    "y={\"Banana\",\"Mango\",\"Cherry\"}\n",
    "z=x.union(y)\n",
    "print(z)"
   ]
  },
  {
   "cell_type": "code",
   "execution_count": 29,
   "id": "42d26a6a-1199-4fa2-a1d4-3add7dd65fb5",
   "metadata": {},
   "outputs": [
    {
     "name": "stdout",
     "output_type": "stream",
     "text": [
      "{'Apple', 'Mango', 'Banana'}\n"
     ]
    }
   ],
   "source": [
    "#union_update\n",
    "x={\"Banana\",\"Mango\",\"Apple\"}\n",
    "\n",
    "y={\"Banana\",\"Mango\",\"Cherry\"}\n",
    "#x.union_update(y)\n",
    "print(x)\n",
    "#no attributes"
   ]
  },
  {
   "cell_type": "code",
   "execution_count": 31,
   "id": "20e25482-398e-4df0-b9c8-78d167825419",
   "metadata": {},
   "outputs": [
    {
     "name": "stdout",
     "output_type": "stream",
     "text": [
      "{'Apple', 'Banana'}\n"
     ]
    }
   ],
   "source": [
    "#discard\n",
    "x={\"Banana\",\"Mango\",\"Apple\"}\n",
    "x.discard(\"Mango\")\n",
    "print(x)"
   ]
  },
  {
   "cell_type": "code",
   "execution_count": 32,
   "id": "7c973e02-b4e3-450f-a9c1-eaad1197f1f1",
   "metadata": {},
   "outputs": [
    {
     "name": "stdout",
     "output_type": "stream",
     "text": [
      "{3}\n"
     ]
    }
   ],
   "source": [
    "#intersection\n",
    "x={1,2,3,4}\n",
    "y={3,5,6,7}\n",
    "z=x.intersection(y)\n",
    "print(z)"
   ]
  },
  {
   "cell_type": "code",
   "execution_count": 34,
   "id": "42600a96-ce3c-4488-9ac9-7631888e5256",
   "metadata": {},
   "outputs": [
    {
     "name": "stdout",
     "output_type": "stream",
     "text": [
      "{3}\n"
     ]
    }
   ],
   "source": [
    "#intersection_update\n",
    "x={1,2,3,4}\n",
    "y={3,5,6,7}\n",
    "x.intersection_update(y)\n",
    "print(x)"
   ]
  },
  {
   "cell_type": "code",
   "execution_count": 36,
   "id": "fe16c39a-bab9-4ac7-ac97-4186a14195f6",
   "metadata": {},
   "outputs": [
    {
     "name": "stdout",
     "output_type": "stream",
     "text": [
      "False\n"
     ]
    }
   ],
   "source": [
    "#isdisjoint\n",
    "x={\"Banana\",\"Mango\",\"Apple\"}\n",
    "y={\"Banana\",\"Mango\",\"Cherry\"}\n",
    "z=x.isdisjoint(y)\n",
    "print(z)"
   ]
  },
  {
   "cell_type": "code",
   "execution_count": 37,
   "id": "87a4fc60-1768-497d-9ac7-f2597181ae20",
   "metadata": {},
   "outputs": [
    {
     "name": "stdout",
     "output_type": "stream",
     "text": [
      "False\n"
     ]
    }
   ],
   "source": [
    "#issubset\n",
    "x={\"a\",\"c\",7,\"f\",\"y\",\"e\",\"u\",\"q\"}\n",
    "y={\"y\",\"a\",7}\n",
    "z=x.issubset(y)\n",
    "print(z)"
   ]
  },
  {
   "cell_type": "code",
   "execution_count": 39,
   "id": "dc306318-2147-4f58-89ac-abd103d2443b",
   "metadata": {},
   "outputs": [
    {
     "name": "stdin",
     "output_type": "stream",
     "text": [
      "Enter age 25\n"
     ]
    },
    {
     "name": "stdout",
     "output_type": "stream",
     "text": [
      "Person is eligible to vote\n"
     ]
    }
   ],
   "source": [
    "#if statement\n",
    "#program to determine wheather the person is eligible to vote \n",
    "age=int(input(\"Enter age\"))\n",
    "if(age>=18):\n",
    "    print(\"Person is eligible to vote\")"
   ]
  },
  {
   "cell_type": "code",
   "execution_count": 42,
   "id": "8d8c842f-1ccd-4f0f-ad49-5fc8e40cc4a7",
   "metadata": {},
   "outputs": [
    {
     "name": "stdin",
     "output_type": "stream",
     "text": [
      "Enter age 7\n"
     ]
    },
    {
     "name": "stdout",
     "output_type": "stream",
     "text": [
      "Person is not eligible to vote\n"
     ]
    }
   ],
   "source": [
    "#if else statement\n",
    "#program to determine wheather the person is eligible to vote or not\n",
    "age=int(input(\"Enter age\"))\n",
    "if(age>=18):\n",
    "    print(\"Person is eligible to vote\")\n",
    "else:\n",
    "     print(\"Person is not eligible to vote\")"
   ]
  },
  {
   "cell_type": "code",
   "execution_count": 47,
   "id": "345404d8-0891-40c8-9d3a-546e0b40a964",
   "metadata": {},
   "outputs": [
    {
     "name": "stdin",
     "output_type": "stream",
     "text": [
      "Enter age 7\n"
     ]
    },
    {
     "name": "stdout",
     "output_type": "stream",
     "text": [
      "Person is not eligible to vote\n",
      "wait for 11 years\n"
     ]
    }
   ],
   "source": [
    "#if else statement\n",
    "#program to determine wheather the person is eligible to vote or not if person is not eligible display how many years are left\n",
    "age=int(input(\"Enter age\"))\n",
    "if(age>=18):\n",
    "    print(\"Person is eligible to vote\")\n",
    "else:\n",
    "    print(\"Person is not eligible to vote\")\n",
    "    years=18-age \n",
    "    print(\"wait for \"+str(years)+\" years\")"
   ]
  },
  {
   "cell_type": "code",
   "execution_count": 48,
   "id": "96aef599-99b1-4f96-92d3-6f75b2a3b1e7",
   "metadata": {},
   "outputs": [
    {
     "name": "stdin",
     "output_type": "stream",
     "text": [
      "enter no 4\n",
      "enter no 5\n"
     ]
    },
    {
     "name": "stdout",
     "output_type": "stream",
     "text": [
      "B is larger\n"
     ]
    }
   ],
   "source": [
    "#find larger numbers among two numbers\n",
    "a=int(input(\"enter no\"))\n",
    "b=int(input(\"enter no\"))  \n",
    "\n",
    "if(a>b):\n",
    "    print(\"A is larger\")\n",
    "else:\n",
    "    print(\"B is larger\")"
   ]
  },
  {
   "cell_type": "code",
   "execution_count": 53,
   "id": "700af79f-184d-4866-8f9d-f07504040ba8",
   "metadata": {},
   "outputs": [
    {
     "name": "stdin",
     "output_type": "stream",
     "text": [
      "enter no 365674\n",
      "enter no 56\n",
      "enter no 3244\n"
     ]
    },
    {
     "name": "stdout",
     "output_type": "stream",
     "text": [
      "a is largest\n"
     ]
    }
   ],
   "source": [
    "#find largest numbers among three numbers\n",
    "a=int(input(\"enter no\"))\n",
    "b=int(input(\"enter no\")) \n",
    "c=int(input(\"enter no\"))\n",
    "if(a>b and a>c):\n",
    "    print(\"a is largest\")\n",
    "elif(b>a and b>c):\n",
    "    print(\"b is largest\")\n",
    "else:\n",
    "    print(\"c is largest\")"
   ]
  },
  {
   "cell_type": "code",
   "execution_count": 56,
   "id": "c82e1539-c77b-4425-b202-82a98a2f2aff",
   "metadata": {},
   "outputs": [
    {
     "name": "stdin",
     "output_type": "stream",
     "text": [
      "enter no -5\n"
     ]
    },
    {
     "name": "stdout",
     "output_type": "stream",
     "text": [
      "Entered element is nagative\n"
     ]
    }
   ],
   "source": [
    "#0,+ve,-ve\n",
    "a=int(input(\"enter no\"))\n",
    "if(a==0):\n",
    "    print(\"Entered element is ZERO\")\n",
    "if(a>0):\n",
    "    print(\"Entered element is positive\")\n",
    "if(a<0):\n",
    "    print(\"Entered element is nagative\")"
   ]
  },
  {
   "cell_type": "code",
   "execution_count": 62,
   "id": "5780a5d8-3f94-4d01-9d28-b59d1fe5fdae",
   "metadata": {},
   "outputs": [
    {
     "name": "stdin",
     "output_type": "stream",
     "text": [
      "enter no 7\n"
     ]
    },
    {
     "name": "stdout",
     "output_type": "stream",
     "text": [
      "Entered element is ODD\n"
     ]
    }
   ],
   "source": [
    "#odd even\n",
    "a=int(input(\"enter no\"))\n",
    "if(a%2==0):\n",
    "    print(\"Entered element is EVEN\")\n",
    "else:\n",
    "    print(\"Entered element is ODD\")"
   ]
  },
  {
   "cell_type": "code",
   "execution_count": 65,
   "id": "30a271dd-5032-4180-acf7-13899237aa02",
   "metadata": {},
   "outputs": [
    {
     "name": "stdin",
     "output_type": "stream",
     "text": [
      "enter no between 0 to 10 0\n"
     ]
    },
    {
     "name": "stdout",
     "output_type": "stream",
     "text": [
      "Entered element is between 0 to 10\n"
     ]
    }
   ],
   "source": [
    "#range\n",
    "a=int(input(\"enter no between 0 to 10\"))\n",
    "if(a<10 and a>=0):\n",
    "    print(\"Entered element is between 0 to 10\")\n",
    "if(a<20 and a>=11):\n",
    "    print(\"Entered element is betwwen 11 to 20\")\n",
    "if(a<30 and a>=21):\n",
    "    print(\"Entered element is between 21 to 30\")"
   ]
  },
  {
   "cell_type": "code",
   "execution_count": null,
   "id": "c61d83b9-95b7-4a2b-a83d-2f1985556528",
   "metadata": {},
   "outputs": [],
   "source": []
  }
 ],
 "metadata": {
  "kernelspec": {
   "display_name": "Python 3 (ipykernel)",
   "language": "python",
   "name": "python3"
  },
  "language_info": {
   "codemirror_mode": {
    "name": "ipython",
    "version": 3
   },
   "file_extension": ".py",
   "mimetype": "text/x-python",
   "name": "python",
   "nbconvert_exporter": "python",
   "pygments_lexer": "ipython3",
   "version": "3.12.4"
  }
 },
 "nbformat": 4,
 "nbformat_minor": 5
}
