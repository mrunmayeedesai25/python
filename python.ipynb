{
 "cells": [
  {
   "cell_type": "code",
   "execution_count": 13,
   "id": "2c22ca84-8590-4937-8856-2b6ef1652f8d",
   "metadata": {},
   "outputs": [
    {
     "name": "stdout",
     "output_type": "stream",
     "text": [
      "python is easy!!\n",
      "p\n",
      "thon \n",
      "python \n",
      "hon is easy!!\n",
      "python is easy!!\n",
      "!\n",
      "python is easy!!python is easy!!\n",
      "python is easy!!and C also\n"
     ]
    }
   ],
   "source": [
    "#string\n",
    "\n",
    "str='python is easy!!'\n",
    "print(str)\n",
    "print(str[0])\n",
    "print(str[2:7])\n",
    "print(str[:7])\n",
    "print(str[3:])\n",
    "print(str[:])\n",
    "print(str[-1])\n",
    "print(str*2)\n",
    "str1='and C also'\n",
    "print(str+str1)"
   ]
  },
  {
   "cell_type": "code",
   "execution_count": 15,
   "id": "95117cba-64c1-401d-a33e-a0e06920e8b3",
   "metadata": {},
   "outputs": [
    {
     "name": "stdout",
     "output_type": "stream",
     "text": [
      "(78, 5.6, 'cd', 'a')\n",
      "(7, 't')\n",
      "cd\n",
      "('cd', 'a')\n",
      "(78, 5.6)\n",
      "('a',)\n",
      "(78, 5.6, 'cd', 'a')\n",
      "cd\n",
      "(78, 5.6, 'cd', 'a', 78, 5.6, 'cd', 'a', 78, 5.6, 'cd', 'a')\n",
      "(78, 5.6, 'cd', 'a', 7, 't')\n"
     ]
    }
   ],
   "source": [
    "#tuple\n",
    "\n",
    "tup=(78,5.6,'cd','a')\n",
    "tup1=(7,'t')\n",
    "print(tup)\n",
    "print(tup1)\n",
    "print(tup[2])\n",
    "print(tup[2:4])\n",
    "print(tup[:2])\n",
    "print(tup[3:])\n",
    "print(tup[:])\n",
    "print(tup[-2])\n",
    "print(tup*3)\n",
    "print(tup+tup1)"
   ]
  },
  {
   "cell_type": "code",
   "execution_count": 17,
   "id": "ce0726b8-2a12-4f6c-80f2-a41b3d42691d",
   "metadata": {},
   "outputs": [
    {
     "name": "stdout",
     "output_type": "stream",
     "text": [
      "['fd', 34, 'yu', 61]\n",
      "['ko', 52]\n",
      "yu\n",
      "['yu', 61]\n",
      "['fd', 34]\n",
      "[61]\n",
      "['fd', 34, 'yu', 61]\n",
      "yu\n",
      "['fd', 34, 'yu', 61, 'fd', 34, 'yu', 61]\n",
      "['ko', 52, 'fd', 34, 'yu', 61]\n"
     ]
    }
   ],
   "source": [
    "#list\n",
    "\n",
    "list=['fd',34,'yu',61]\n",
    "list1=['ko',52]\n",
    "print(list)\n",
    "print(list1)\n",
    "print(list[2])\n",
    "print(list[2:4])\n",
    "print(list[:2])\n",
    "print(list[3:])\n",
    "print(list[:])\n",
    "print(list[-2])\n",
    "print(2*list)\n",
    "print(list1+list)"
   ]
  },
  {
   "cell_type": "code",
   "execution_count": 33,
   "id": "be6067af-ce89-4ab9-bd04-5af2d52287c7",
   "metadata": {},
   "outputs": [
    {
     "name": "stdout",
     "output_type": "stream",
     "text": [
      "{'color': 'white', 'day': 'thrusday'}\n",
      "{'fruit': 'kiwi'}\n",
      "kiwi\n"
     ]
    }
   ],
   "source": [
    "#dictionary\n",
    "\n",
    "dict={\"color\":\"white\",\"day\":\"thrusday\"}\n",
    "dict1={\"fruit\":\"kiwi\"}\n",
    "print(dict)\n",
    "print(dict1)\n",
    "print(dict1['fruit'])"
   ]
  },
  {
   "cell_type": "code",
   "execution_count": 37,
   "id": "7f1992d3-a280-4628-b6b3-d34b263344d3",
   "metadata": {},
   "outputs": [
    {
     "name": "stdout",
     "output_type": "stream",
     "text": [
      "4\n",
      "3\n"
     ]
    }
   ],
   "source": [
    "#conversion\n",
    "\n",
    "x=3.9\n",
    "print(round(x))\n",
    "print(int(x))"
   ]
  },
  {
   "cell_type": "code",
   "execution_count": 53,
   "id": "0d0ef281-5de9-4cd2-a565-f054e1f46541",
   "metadata": {},
   "outputs": [
    {
     "name": "stdin",
     "output_type": "stream",
     "text": [
      "enter the 1st side of triangle 7\n",
      "enter the 2nd side of triangle 7\n",
      "enter the 3rd side of triangle 7\n"
     ]
    },
    {
     "name": "stdout",
     "output_type": "stream",
     "text": [
      "A = 7.0\n",
      "B = 7.0\n",
      "C = 7.0\n",
      "Area =  21.21762239271875\n"
     ]
    }
   ],
   "source": [
    "#herons formula\n",
    "\n",
    "a=float(input(\"enter the 1st side of triangle\"))\n",
    "b=float(input(\"enter the 2nd side of triangle\"))\n",
    "c=float(input(\"enter the 3rd side of triangle\"))\n",
    "print(\"A =\",a)\n",
    "print(\"B =\",b)\n",
    "print(\"C =\",c)\n",
    "s=(a+b+c)/2\n",
    "area=(s*(s-a)*(s-b)*(s-c))**0.5\n",
    "print(\"Area = \",area)"
   ]
  },
  {
   "cell_type": "code",
   "execution_count": 87,
   "id": "a98441cc-b482-4e8c-935a-5d138c9f795c",
   "metadata": {},
   "outputs": [
    {
     "name": "stdout",
     "output_type": "stream",
     "text": [
      "<class 'int'>\n",
      "<class 'float'>\n",
      "<class 'str'>\n"
     ]
    },
    {
     "name": "stdin",
     "output_type": "stream",
     "text": [
      "enter character m\n"
     ]
    },
    {
     "name": "stdout",
     "output_type": "stream",
     "text": [
      "ASCII Value : 109\n",
      "0o3\n",
      "0x3\n"
     ]
    }
   ],
   "source": [
    "#conversion\n",
    "\n",
    "x,y,z=3,3.4,'t'\n",
    "print(type(x))\n",
    "print(type(y))\n",
    "print(type(z))\n",
    "a=input(\"enter character\")\n",
    "print(\"ASCII Value :\",ord(a))\n",
    "print(oct(x))\n",
    "print(hex(x))"
   ]
  },
  {
   "cell_type": "code",
   "execution_count": 97,
   "id": "2125be7f-1617-4346-b6e7-2dfc356ada2e",
   "metadata": {},
   "outputs": [
    {
     "name": "stdin",
     "output_type": "stream",
     "text": [
      "enter no 2\n",
      "enter no 4\n",
      "enter no 3\n",
      "enter no 6\n"
     ]
    },
    {
     "name": "stdout",
     "output_type": "stream",
     "text": [
      "DISTANCE = 3.605551275463989\n"
     ]
    }
   ],
   "source": [
    "#euclidean distance\n",
    "\n",
    "x1=int(input(\"enter no\"))\n",
    "x2=int(input(\"enter no\"))\n",
    "y1=int(input(\"enter no\"))\n",
    "y2=int(input(\"enter no\"))\n",
    "d=((x2-x1)**2+(y2-y1)**2)**0.5\n",
    "print(\"DISTANCE =\",d)"
   ]
  },
  {
   "cell_type": "code",
   "execution_count": 99,
   "id": "fc9f3ce1-a906-4e3c-aa81-5388138c59fb",
   "metadata": {},
   "outputs": [
    {
     "name": "stdin",
     "output_type": "stream",
     "text": [
      "enter radius for circle 2\n"
     ]
    },
    {
     "name": "stdout",
     "output_type": "stream",
     "text": [
      "AREA OF CIRCLE = 12.56\n"
     ]
    }
   ],
   "source": [
    "#area of circle\n",
    "\n",
    "r=float(input(\"enter radius for circle\"))\n",
    "area=3.14*r*r\n",
    "print(\"AREA OF CIRCLE =\",area)"
   ]
  },
  {
   "cell_type": "code",
   "execution_count": 101,
   "id": "2362b31d-daf8-4fb3-8796-09451de2ca61",
   "metadata": {},
   "outputs": [
    {
     "name": "stdin",
     "output_type": "stream",
     "text": [
      "enter no 34\n"
     ]
    },
    {
     "name": "stdout",
     "output_type": "stream",
     "text": [
      "DIGIT AT ONE's PLACE : 4\n"
     ]
    }
   ],
   "source": [
    "#one's place digit\n",
    "\n",
    "num=int(input(\"enter no\"))\n",
    "d=num%10\n",
    "print(\"DIGIT AT ONE's PLACE :\",d)"
   ]
  },
  {
   "cell_type": "code",
   "execution_count": 103,
   "id": "74c990fc-8e14-4614-a3a6-4b22564e5b9d",
   "metadata": {},
   "outputs": [
    {
     "name": "stdin",
     "output_type": "stream",
     "text": [
      "enter no 5\n",
      "enter no 3\n"
     ]
    },
    {
     "name": "stdout",
     "output_type": "stream",
     "text": [
      "AVERAGE = 4.0\n",
      "DEVIATION = 1.0\n"
     ]
    }
   ],
   "source": [
    "#average\n",
    "\n",
    "x=int(input(\"enter no\"))\n",
    "y=int(input(\"enter no\"))\n",
    "z=(x+y)/2\n",
    "print(\"AVERAGE =\",z)\n",
    "d=x-z\n",
    "print(\"DEVIATION =\",d)"
   ]
  },
  {
   "cell_type": "code",
   "execution_count": null,
   "id": "9e975ead-9605-40c9-bf5a-fad6e49c67f4",
   "metadata": {},
   "outputs": [],
   "source": []
  }
 ],
 "metadata": {
  "kernelspec": {
   "display_name": "Python 3 (ipykernel)",
   "language": "python",
   "name": "python3"
  },
  "language_info": {
   "codemirror_mode": {
    "name": "ipython",
    "version": 3
   },
   "file_extension": ".py",
   "mimetype": "text/x-python",
   "name": "python",
   "nbconvert_exporter": "python",
   "pygments_lexer": "ipython3",
   "version": "3.12.4"
  }
 },
 "nbformat": 4,
 "nbformat_minor": 5
}
