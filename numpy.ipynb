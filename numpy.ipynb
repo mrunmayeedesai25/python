{
  "nbformat": 4,
  "nbformat_minor": 0,
  "metadata": {
    "colab": {
      "provenance": []
    },
    "kernelspec": {
      "name": "python3",
      "display_name": "Python 3"
    },
    "language_info": {
      "name": "python"
    }
  },
  "cells": [
    {
      "cell_type": "code",
      "execution_count": null,
      "metadata": {
        "colab": {
          "base_uri": "https://localhost:8080/"
        },
        "id": "UVTYCoQKnw1N",
        "outputId": "df120d27-56e0-441c-d77f-a0f029cca505"
      },
      "outputs": [
        {
          "output_type": "stream",
          "name": "stdout",
          "text": [
            "1.26.4\n"
          ]
        }
      ],
      "source": [
        "import numpy as np\n",
        "print(np.__version__)"
      ]
    },
    {
      "cell_type": "markdown",
      "source": [],
      "metadata": {
        "id": "qT0QdtRv1QVd"
      }
    },
    {
      "cell_type": "code",
      "source": [
        "import numpy as np\n",
        "x=np.array([1,0,0,0])\n",
        "print(\"original array\")\n",
        "print(x)\n",
        "print(np.any(x))\n",
        "x=np.array([0,0,0,0,])\n",
        "print(np.any(x))"
      ],
      "metadata": {
        "colab": {
          "base_uri": "https://localhost:8080/"
        },
        "id": "nOrW_10bpluq",
        "outputId": "047991d4-fb10-482d-8b8d-3955fd430aed"
      },
      "execution_count": null,
      "outputs": [
        {
          "output_type": "stream",
          "name": "stdout",
          "text": [
            "original array\n",
            "[1 0 0 0]\n",
            "True\n",
            "False\n"
          ]
        }
      ]
    },
    {
      "cell_type": "code",
      "source": [
        "import numpy as np\n",
        "a=np.array([1,0,np.nan,np.inf])\n",
        "print(a)\n",
        "print(\"test element wise for nan\")\n",
        "print(np.isnan(a))"
      ],
      "metadata": {
        "colab": {
          "base_uri": "https://localhost:8080/"
        },
        "id": "sdd2878fuMUK",
        "outputId": "a86e5c4d-e1e4-4db3-b8d5-17f3bb4ab83d"
      },
      "execution_count": null,
      "outputs": [
        {
          "output_type": "stream",
          "name": "stdout",
          "text": [
            "[ 1.  0. nan inf]\n",
            "test element wise for nan\n",
            "[False False  True False]\n"
          ]
        }
      ]
    },
    {
      "cell_type": "code",
      "source": [
        "import numpy as np\n",
        "a=np.array([1,-2,np.inf,-np.inf,0,3.5])\n",
        "result_pinf=np.isposinf(a)\n",
        "result_ninf=np.isneginf(a)\n",
        "print(\"result at pos inf\",result_pinf)\n",
        "print(\"result at neg inf\",result_ninf)"
      ],
      "metadata": {
        "id": "kPaUGZ3CrJU5",
        "colab": {
          "base_uri": "https://localhost:8080/"
        },
        "outputId": "a8966385-88ff-4e2e-d73e-41bfaa827d0c"
      },
      "execution_count": null,
      "outputs": [
        {
          "output_type": "stream",
          "name": "stdout",
          "text": [
            "result at pos inf [False False  True False False False]\n",
            "result at neg inf [False False False  True False False]\n"
          ]
        }
      ]
    },
    {
      "cell_type": "code",
      "source": [
        "import numpy as np\n",
        "a=np.arange(30,71,2)\n",
        "print(a)"
      ],
      "metadata": {
        "colab": {
          "base_uri": "https://localhost:8080/"
        },
        "id": "B9KyNfcZvNpy",
        "outputId": "f489205e-c380-40eb-a0d0-e0c085a6b6e5"
      },
      "execution_count": null,
      "outputs": [
        {
          "output_type": "stream",
          "name": "stdout",
          "text": [
            "[30 32 34 36 38 40 42 44 46 48 50 52 54 56 58 60 62 64 66 68 70]\n"
          ]
        }
      ]
    },
    {
      "cell_type": "markdown",
      "source": [
        "import numpy as np\n",
        "a=np.identity(7)\n",
        "print(\"7x7 matrix\")\n",
        "print(a)"
      ],
      "metadata": {
        "id": "NQ5RhCOHxlQs"
      }
    },
    {
      "cell_type": "code",
      "source": [],
      "metadata": {
        "id": "1j1CRMdwybHW"
      },
      "execution_count": null,
      "outputs": []
    },
    {
      "cell_type": "code",
      "source": [
        "\n",
        "import numpy as np\n",
        "a= np.matrix('[4, 1; 12, 3]')\n",
        "b= a.sum()\n",
        "\n",
        "print(b)"
      ],
      "metadata": {
        "colab": {
          "base_uri": "https://localhost:8080/"
        },
        "id": "xdIwbju0xxg7",
        "outputId": "5acb60d2-d406-4c91-ed2c-d4b001955f30"
      },
      "execution_count": null,
      "outputs": [
        {
          "output_type": "stream",
          "name": "stdout",
          "text": [
            "20\n"
          ]
        }
      ]
    },
    {
      "cell_type": "code",
      "source": [
        "import numpy as np\n",
        "\n",
        "arr1 = np.array([[1, 2],\n",
        "                 [3, 4]])\n",
        "arr2 = np.array([[5, 6],\n",
        "                 [7, 8]])\n",
        "\n",
        "arr_result = np.multiply(arr1, arr2)\n",
        "\n",
        "print(arr_result)\n"
      ],
      "metadata": {
        "colab": {
          "base_uri": "https://localhost:8080/"
        },
        "id": "ZfOC3Z0t0B-i",
        "outputId": "3bacdc59-c8a6-4e20-bac8-38bb570b1119"
      },
      "execution_count": null,
      "outputs": [
        {
          "output_type": "stream",
          "name": "stdout",
          "text": [
            "[[ 5 12]\n",
            " [21 32]]\n"
          ]
        }
      ]
    },
    {
      "cell_type": "code",
      "source": [
        "import numpy as np\n",
        "array=([[ 0.,  2.,  4.],\n",
        "       [ 3.,  5.,  7.],\n",
        "       [ 6.,  8., 10.]])\n",
        "print(np.transpose(array))"
      ],
      "metadata": {
        "colab": {
          "base_uri": "https://localhost:8080/"
        },
        "id": "8JVIG78p2sry",
        "outputId": "cc455d7d-8397-402c-fa34-b49affe27b95"
      },
      "execution_count": null,
      "outputs": [
        {
          "output_type": "stream",
          "name": "stdout",
          "text": [
            "[[ 0.  3.  6.]\n",
            " [ 2.  5.  8.]\n",
            " [ 4.  7. 10.]]\n"
          ]
        }
      ]
    },
    {
      "cell_type": "markdown",
      "source": [],
      "metadata": {
        "id": "rVlUu83B2sOS"
      }
    },
    {
      "cell_type": "markdown",
      "source": [
        "import numpy as np\n",
        "array=([[ 0,  2,  4],\n",
        "       [ 3,  5,  7],\n",
        "       [ 6,  8, 10]])\n",
        "print(array)\n",
        "print(array[::-1])"
      ],
      "metadata": {
        "id": "elWqrfyG0WHF"
      }
    },
    {
      "cell_type": "code",
      "source": [
        "import numpy as np\n",
        "a=np.array([[ 0,  2,  4, 5],\n",
        "            [ 3,  5,  7, 6],\n",
        "            [ 6,  8, 10, 2],\n",
        "            [ 5,  2, 8,  0]])\n",
        "new_array = a[:, ::-1]\n",
        "print(new_array)"
      ],
      "metadata": {
        "colab": {
          "base_uri": "https://localhost:8080/"
        },
        "id": "dbnxK4Az2mn7",
        "outputId": "5820f9d5-29fd-4838-9af3-72ad59cd6dc9"
      },
      "execution_count": null,
      "outputs": [
        {
          "output_type": "stream",
          "name": "stdout",
          "text": [
            "[[ 5  4  2  0]\n",
            " [ 6  7  5  3]\n",
            " [ 2 10  8  6]\n",
            " [ 0  8  2  5]]\n"
          ]
        }
      ]
    }
  ]
}