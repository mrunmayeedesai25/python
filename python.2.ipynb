{
 "cells": [
  {
   "cell_type": "code",
   "execution_count": 6,
   "id": "d5fe3722-066d-4d91-8c1a-9479679dd89b",
   "metadata": {},
   "outputs": [
    {
     "name": "stdout",
     "output_type": "stream",
     "text": [
      "4\n",
      "['r', 6, 34, 7]\n",
      "['r', 6, 34, 7, 61]\n",
      "[6, 34, 7, 61]\n",
      "[34, 7, 61]\n"
     ]
    }
   ],
   "source": [
    "list=['r',6,'m',7]\n",
    "print(len(list))\n",
    "list[2]=34\n",
    "print(list)\n",
    "list.append(61)\n",
    "print(list)\n",
    "del list[0]\n",
    "print(list)\n",
    "del list[0:1]\n",
    "print(list)"
   ]
  },
  {
   "cell_type": "code",
   "execution_count": 67,
   "id": "efc15b54-3f18-4b8f-bfd9-94595fd55770",
   "metadata": {},
   "outputs": [
    {
     "name": "stdout",
     "output_type": "stream",
     "text": [
      "[1, 6, 7]\n"
     ]
    }
   ],
   "source": [
    "a_list=[1,6,7]\n",
    "#del a_list\n",
    "#name error\n",
    "print(a_list)"
   ]
  },
  {
   "cell_type": "code",
   "execution_count": 8,
   "id": "524e9a3e-7cab-4263-bf38-c5556559700a",
   "metadata": {},
   "outputs": [
    {
     "name": "stdout",
     "output_type": "stream",
     "text": [
      "[1, 2, 3]\n"
     ]
    }
   ],
   "source": [
    "#cloning\n",
    "list=[1,2,3]\n",
    "list1=list\n",
    "print(list)"
   ]
  },
  {
   "cell_type": "code",
   "execution_count": 15,
   "id": "89700989-3101-4d49-86ba-7dffd5dbb8a1",
   "metadata": {},
   "outputs": [
    {
     "name": "stdout",
     "output_type": "stream",
     "text": [
      "[23, 2]\n"
     ]
    }
   ],
   "source": [
    "#append\n",
    "list=[]\n",
    "list.append(23)\n",
    "list.append(2)\n",
    "print(list)"
   ]
  },
  {
   "cell_type": "code",
   "execution_count": 16,
   "id": "6c7030f8-0407-45bc-8f82-4651841ad502",
   "metadata": {},
   "outputs": [
    {
     "name": "stdout",
     "output_type": "stream",
     "text": [
      "[1, 2, 3, 4, 5]\n"
     ]
    }
   ],
   "source": [
    "#concatenation\n",
    "list=[1,2,3]\n",
    "list1=[4,5]\n",
    "print(list+list1)"
   ]
  },
  {
   "cell_type": "code",
   "execution_count": 2,
   "id": "34272bd5-a3a0-41f7-ad20-11c62d7f00de",
   "metadata": {},
   "outputs": [
    {
     "name": "stdout",
     "output_type": "stream",
     "text": [
      "[]\n"
     ]
    }
   ],
   "source": [
    "#clear\n",
    "list_b=[1,2,3,4,5]\n",
    "list_b.clear()\n",
    "print(list_b)"
   ]
  },
  {
   "cell_type": "code",
   "execution_count": 3,
   "id": "73563123-ffad-4e51-b7ec-860cb72f3172",
   "metadata": {},
   "outputs": [
    {
     "name": "stdout",
     "output_type": "stream",
     "text": [
      "[1, 2, 3]\n"
     ]
    }
   ],
   "source": [
    "#copy\n",
    "c=[1,2,3]\n",
    "c.copy()\n",
    "print(c)"
   ]
  },
  {
   "cell_type": "code",
   "execution_count": 4,
   "id": "cdc9cd9c-e185-4ad0-b090-71e7b1b0ffa8",
   "metadata": {},
   "outputs": [
    {
     "name": "stdout",
     "output_type": "stream",
     "text": [
      "2\n"
     ]
    }
   ],
   "source": [
    "#count\n",
    "d=['g','y',5,5]\n",
    "x=d.count(5)\n",
    "print(x)"
   ]
  },
  {
   "cell_type": "code",
   "execution_count": 7,
   "id": "3a925cc4-8062-4be2-a7b9-6f809affb95e",
   "metadata": {},
   "outputs": [
    {
     "name": "stdout",
     "output_type": "stream",
     "text": [
      "['a', 'b', 'c']\n",
      "['a', 'b', 'c', 'd', 'e']\n"
     ]
    }
   ],
   "source": [
    "#extend\n",
    "l=['a','b','c']\n",
    "print(l)\n",
    "l.extend(['d','e'])\n",
    "print(l)"
   ]
  },
  {
   "cell_type": "code",
   "execution_count": 11,
   "id": "19a0f58f-7209-4fb7-87f5-c7539d4053a3",
   "metadata": {},
   "outputs": [
    {
     "name": "stdout",
     "output_type": "stream",
     "text": [
      "['car', 'h', 77]\n",
      "0\n"
     ]
    }
   ],
   "source": [
    "#index\n",
    "x=[\"car\",'h',77]\n",
    "print(x)\n",
    "print(x.index(\"car\"))\n"
   ]
  },
  {
   "cell_type": "code",
   "execution_count": 16,
   "id": "2dfda421-3012-41d2-80b7-7d808c1ca988",
   "metadata": {},
   "outputs": [
    {
     "name": "stdout",
     "output_type": "stream",
     "text": [
      "[3, 'y', 9]\n",
      "[3, 'y', 6, 9]\n"
     ]
    }
   ],
   "source": [
    "#insert\n",
    "g=[3,'y',9]\n",
    "print(g)\n",
    "g.insert(2,6)\n",
    "print(g)"
   ]
  },
  {
   "cell_type": "code",
   "execution_count": 17,
   "id": "29ebfdf7-54a6-4dcc-8815-5a58e7456c8a",
   "metadata": {},
   "outputs": [
    {
     "name": "stdout",
     "output_type": "stream",
     "text": [
      "[3, 'y', 9]\n",
      "[3, 'y']\n"
     ]
    }
   ],
   "source": [
    "#pop\n",
    "g=[3,'y',9]\n",
    "print(g)\n",
    "g.pop()\n",
    "print(g)"
   ]
  },
  {
   "cell_type": "code",
   "execution_count": 18,
   "id": "6c0306db-389c-4a3e-b620-4d3ff57076e4",
   "metadata": {},
   "outputs": [
    {
     "name": "stdout",
     "output_type": "stream",
     "text": [
      "[6, 'e', 90, 'we', 31]\n",
      "[6, 'e', 'we', 31]\n"
     ]
    }
   ],
   "source": [
    "#remove\n",
    "g=[6,'e',90,'we',31]\n",
    "print(g)\n",
    "g.remove(90)\n",
    "print(g)"
   ]
  },
  {
   "cell_type": "code",
   "execution_count": 19,
   "id": "b7ab7b40-cfb7-48ae-a544-27e1e216e79c",
   "metadata": {},
   "outputs": [
    {
     "name": "stdout",
     "output_type": "stream",
     "text": [
      "[45, 56, 'rt', 'ui']\n",
      "['ui', 'rt', 56, 45]\n"
     ]
    }
   ],
   "source": [
    "#reverse\n",
    "h=[45,56,'rt','ui']\n",
    "print(h)\n",
    "h.reverse()\n",
    "print(h)"
   ]
  },
  {
   "cell_type": "code",
   "execution_count": 27,
   "id": "1960053a-850c-4888-b79c-22ace814271d",
   "metadata": {},
   "outputs": [
    {
     "name": "stdout",
     "output_type": "stream",
     "text": [
      "[45, 5, 100]\n",
      "[5, 45, 100]\n",
      "\t\n",
      "['a', 'C', 'b']\n",
      "['C', 'a', 'b']\n"
     ]
    }
   ],
   "source": [
    "#sort\n",
    "h=[45,5,100]\n",
    "print(h)\n",
    "h.sort()\n",
    "print(h)\n",
    "print(\"\\t\")\n",
    "n=['a','C','b']\n",
    "print(n)\n",
    "n.sort()\n",
    "print(n)"
   ]
  },
  {
   "cell_type": "code",
   "execution_count": 26,
   "id": "cd9ff0fe-14f4-48fa-a09d-94bdeab4f245",
   "metadata": {},
   "outputs": [
    {
     "name": "stdout",
     "output_type": "stream",
     "text": [
      "3\n"
     ]
    }
   ],
   "source": [
    "#tuple - length\n",
    "r=(\"d\",\"F\",\"t\")\n",
    "print(len(r))"
   ]
  },
  {
   "cell_type": "code",
   "execution_count": 29,
   "id": "6b1b68cf-4a1f-497d-b953-a1279b626f23",
   "metadata": {},
   "outputs": [
    {
     "name": "stdout",
     "output_type": "stream",
     "text": [
      "<class 'tuple'>\n",
      "<class 'str'>\n"
     ]
    }
   ],
   "source": [
    "#tuple - single element\n",
    "t=(\"a\",)\n",
    "print(type(t))\n",
    "t1=(\"a\")\n",
    "print(type(t1))"
   ]
  },
  {
   "cell_type": "code",
   "execution_count": 30,
   "id": "24321a9c-aaaa-457c-bdbd-38d235290a37",
   "metadata": {},
   "outputs": [
    {
     "name": "stdout",
     "output_type": "stream",
     "text": [
      "{1: 'a', 2: 'b'}\n"
     ]
    }
   ],
   "source": [
    "#dictionary - integer key\n",
    "d={1:'a',2:'b'}\n",
    "print(d)"
   ]
  },
  {
   "cell_type": "code",
   "execution_count": 31,
   "id": "4405dd40-3df3-4df6-a9dd-2ed8c049f9e8",
   "metadata": {},
   "outputs": [
    {
     "name": "stdout",
     "output_type": "stream",
     "text": [
      "{'A': 'a', 2: 'b'}\n"
     ]
    }
   ],
   "source": [
    "#dictionary - mix key\n",
    "d={'A':'a',2:'b'}\n",
    "print(d)"
   ]
  },
  {
   "cell_type": "code",
   "execution_count": 32,
   "id": "e5b4a0c3-2325-49ca-9cef-bfbdd9d8d927",
   "metadata": {},
   "outputs": [
    {
     "name": "stdout",
     "output_type": "stream",
     "text": [
      "{'A': 'a', 2: 'b'}\n",
      "a\n"
     ]
    }
   ],
   "source": [
    "#dictionary - accessing elements\n",
    "d={'A':'a',2:'b'}\n",
    "print(d)\n",
    "print(d['A'])"
   ]
  },
  {
   "cell_type": "code",
   "execution_count": 35,
   "id": "ca4d3bdb-6562-4932-bdbb-397a3ec77d46",
   "metadata": {},
   "outputs": [
    {
     "name": "stdout",
     "output_type": "stream",
     "text": [
      "{'A': 'a', 2: 'b'}\n",
      "b\n",
      "a\n"
     ]
    }
   ],
   "source": [
    "#get\n",
    "d={'A':'a',2:'b'}\n",
    "print(d)\n",
    "print(d[2])\n",
    "print(d.get('A'))"
   ]
  },
  {
   "cell_type": "code",
   "execution_count": 41,
   "id": "b72d7d29-f431-4eb2-9712-4b86e957ea4f",
   "metadata": {},
   "outputs": [
    {
     "name": "stdin",
     "output_type": "stream",
     "text": [
      "Enter no 5\n",
      "Enter no 2\n"
     ]
    },
    {
     "name": "stdout",
     "output_type": "stream",
     "text": [
      "BEFORE SWAPPING\n",
      "A = 5\n",
      "B = 2\n",
      "AFTER SWAPPING\n",
      "A = 2\n",
      "B = 5\n"
     ]
    }
   ],
   "source": [
    "#swapping without using 3rd variable\n",
    "A=int(input(\"Enter no\"))\n",
    "B=int(input(\"Enter no\"))\n",
    "print(\"BEFORE SWAPPING\")\n",
    "print(\"A =\",A)\n",
    "print(\"B =\",B)\n",
    "A,B=B,A\n",
    "print(\"AFTER SWAPPING\")\n",
    "print(\"A =\",A)\n",
    "print(\"B =\",B)"
   ]
  },
  {
   "cell_type": "code",
   "execution_count": 42,
   "id": "c5fd9247-01ad-4155-b67f-21e1cb8823c4",
   "metadata": {},
   "outputs": [
    {
     "name": "stdin",
     "output_type": "stream",
     "text": [
      "Enter no 5\n",
      "Enter no 2\n"
     ]
    },
    {
     "name": "stdout",
     "output_type": "stream",
     "text": [
      "BEFORE SWAPPING\n",
      "A = 5\n",
      "B = 2\n",
      "AFTER SWAPPING\n",
      "A = 2\n",
      "B = 5\n"
     ]
    }
   ],
   "source": [
    "#swapping with using 3rd variable\n",
    "A=int(input(\"Enter no\"))\n",
    "B=int(input(\"Enter no\"))\n",
    "print(\"BEFORE SWAPPING\")\n",
    "print(\"A =\",A)\n",
    "print(\"B =\",B)\n",
    "TEMP=A\n",
    "A=B\n",
    "B=TEMP\n",
    "print(\"AFTER SWAPPING\")\n",
    "print(\"A =\",A)\n",
    "print(\"B =\",B)"
   ]
  },
  {
   "cell_type": "code",
   "execution_count": 45,
   "id": "5c8b4abd-abd8-4569-a8e2-2804f12cf298",
   "metadata": {},
   "outputs": [
    {
     "name": "stdout",
     "output_type": "stream",
     "text": [
      "{'name': 'arthur', 'age': 25}\n",
      "{'name': 'arthur', 'age': 24}\n",
      "{'name': 'arthur', 'age': 24, 'address': 'downtown'}\n"
     ]
    }
   ],
   "source": [
    "#changing and adding dictionary elements\n",
    "d={'name':'arthur','age':25}\n",
    "print(d)\n",
    "d['age']=24\n",
    "print(d)\n",
    "d['address']='downtown'\n",
    "print(d)"
   ]
  },
  {
   "cell_type": "code",
   "execution_count": 46,
   "id": "2bb53704-3a42-4ca1-83be-88a644764876",
   "metadata": {},
   "outputs": [
    {
     "name": "stdout",
     "output_type": "stream",
     "text": [
      "()\n"
     ]
    }
   ],
   "source": [
    "#empty tuple\n",
    "t=()\n",
    "print(t)"
   ]
  },
  {
   "cell_type": "code",
   "execution_count": 47,
   "id": "bd4fd45d-aaa8-4835-8d8d-435eeb91896d",
   "metadata": {},
   "outputs": [
    {
     "name": "stdout",
     "output_type": "stream",
     "text": [
      "(1, 2, 3)\n"
     ]
    }
   ],
   "source": [
    "#integer tuple\n",
    "t=(1,2,3)\n",
    "print(t)"
   ]
  },
  {
   "cell_type": "code",
   "execution_count": 52,
   "id": "4b53e40d-a1ac-4126-b2c4-b03cff234edc",
   "metadata": {},
   "outputs": [
    {
     "name": "stdout",
     "output_type": "stream",
     "text": [
      "('d', 'e')\n"
     ]
    }
   ],
   "source": [
    "#character tuple\n",
    "t=('d','e')\n",
    "print(t)"
   ]
  },
  {
   "cell_type": "code",
   "execution_count": 50,
   "id": "3ee69084-59a0-47f7-9d08-70a0ed709bd5",
   "metadata": {},
   "outputs": [
    {
     "name": "stdout",
     "output_type": "stream",
     "text": [
      "('PCU', 'BTech')\n"
     ]
    }
   ],
   "source": [
    "#string tuple\n",
    "t=(\"PCU\",\"BTech\")\n",
    "print(t)"
   ]
  },
  {
   "cell_type": "code",
   "execution_count": 51,
   "id": "785ae4f5-bbb6-4f23-bc69-c474e8440379",
   "metadata": {},
   "outputs": [
    {
     "name": "stdout",
     "output_type": "stream",
     "text": [
      "('car', 'c', 3)\n"
     ]
    }
   ],
   "source": [
    "#mix tuple\n",
    "t=(\"car\",'c',3)\n",
    "print(t)"
   ]
  },
  {
   "cell_type": "code",
   "execution_count": 57,
   "id": "b7c503a9-dec2-4248-86c9-4070c94e58b8",
   "metadata": {},
   "outputs": [
    {
     "name": "stdout",
     "output_type": "stream",
     "text": [
      "(1, 2, 3, 4, 5)\n"
     ]
    }
   ],
   "source": [
    "t=(1,2,3,4,5)\n",
    "#del t[4]\n",
    "print(t)\n",
    "#type error\n",
    "#we can't edit in tuple\n",
    "del t\n",
    "#print(t)\n",
    "#name error"
   ]
  },
  {
   "cell_type": "code",
   "execution_count": 58,
   "id": "27854f3e-f57a-40ad-bab2-59ad20eb8f6a",
   "metadata": {},
   "outputs": [
    {
     "name": "stdout",
     "output_type": "stream",
     "text": [
      "3\n"
     ]
    }
   ],
   "source": [
    "#index\n",
    "t=(1,2,3,4,5,6,7,8,9,10)\n",
    "print(t.index(4))"
   ]
  },
  {
   "cell_type": "code",
   "execution_count": 59,
   "id": "d5cb6a2e-8ac4-4a37-aec6-71fa826fce44",
   "metadata": {},
   "outputs": [
    {
     "name": "stdout",
     "output_type": "stream",
     "text": [
      "2\n"
     ]
    }
   ],
   "source": [
    "#count\n",
    "t=(1,2,3,4,2)\n",
    "print(t.count(2))"
   ]
  },
  {
   "cell_type": "code",
   "execution_count": 76,
   "id": "259fb989-9cc5-4355-b9d2-d79c474b54d1",
   "metadata": {},
   "outputs": [
    {
     "name": "stdout",
     "output_type": "stream",
     "text": [
      "(1, 4, 67, 34, 1)\n",
      "[1, 1, 4, 34, 67]\n"
     ]
    }
   ],
   "source": [
    "#sorted\n",
    "tu=(1,4,67,34,1)\n",
    "print(tu)\n",
    "print(sorted(tu))"
   ]
  },
  {
   "cell_type": "code",
   "execution_count": 85,
   "id": "7b1fa09c-c524-4411-977f-c588593a2790",
   "metadata": {},
   "outputs": [
    {
     "name": "stdout",
     "output_type": "stream",
     "text": [
      "True\n"
     ]
    }
   ],
   "source": [
    "#membership operator\n",
    "tu=(1,2,3,4,5)\n",
    "print(5 in tu)"
   ]
  },
  {
   "cell_type": "code",
   "execution_count": 84,
   "id": "4a2a26cb-9213-4b47-986a-0a2052fdd8d4",
   "metadata": {},
   "outputs": [
    {
     "name": "stdout",
     "output_type": "stream",
     "text": [
      "56\n",
      "34\n"
     ]
    }
   ],
   "source": [
    "#max and min\n",
    "tu=(34,56)\n",
    "print(max(tu))\n",
    "print(min(tu))"
   ]
  }
 ],
 "metadata": {
  "kernelspec": {
   "display_name": "Python 3 (ipykernel)",
   "language": "python",
   "name": "python3"
  },
  "language_info": {
   "codemirror_mode": {
    "name": "ipython",
    "version": 3
   },
   "file_extension": ".py",
   "mimetype": "text/x-python",
   "name": "python",
   "nbconvert_exporter": "python",
   "pygments_lexer": "ipython3",
   "version": "3.12.4"
  }
 },
 "nbformat": 4,
 "nbformat_minor": 5
}
