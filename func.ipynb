{
  "nbformat": 4,
  "nbformat_minor": 0,
  "metadata": {
    "colab": {
      "provenance": []
    },
    "kernelspec": {
      "name": "python3",
      "display_name": "Python 3"
    },
    "language_info": {
      "name": "python"
    }
  },
  "cells": [
    {
      "cell_type": "code",
      "execution_count": null,
      "metadata": {
        "colab": {
          "base_uri": "https://localhost:8080/"
        },
        "id": "7SpwKDJq8q8J",
        "outputId": "6f8b5120-7f77-46cd-8095-268bf7765ffb"
      },
      "outputs": [
        {
          "output_type": "stream",
          "name": "stdout",
          "text": [
            "buddy\n",
            "7\n",
            "('buddy', 7)\n"
          ]
        }
      ],
      "source": [
        "class A:\n",
        "  def __init__(self,name,age):\n",
        "    self.name=name\n",
        "    self.age=age\n",
        "  def show(self):\n",
        "    return self.name,self.age\n",
        "\n",
        "Aa=A(\"buddy\",7)\n",
        "print(Aa.name)\n",
        "print(Aa.age)\n",
        "print(Aa.show())"
      ]
    },
    {
      "cell_type": "code",
      "source": [
        "class person:\n",
        "  def __init__(self,name,age):\n",
        "    self.name=name\n",
        "    self.age=age\n",
        "  def greet(self):\n",
        "    return f\"Hello,my name is {self.name} and I am {self.age} years\"\n",
        "p1=person(\"alice\",25)\n",
        "print(p1.name)\n",
        "print(p1.age)\n",
        "print(p1.greet())"
      ],
      "metadata": {
        "colab": {
          "base_uri": "https://localhost:8080/"
        },
        "id": "izoQ24V5Ato-",
        "outputId": "2544d0c5-817f-4f01-aa47-1c764e7a950a"
      },
      "execution_count": null,
      "outputs": [
        {
          "output_type": "stream",
          "name": "stdout",
          "text": [
            "alice\n",
            "25\n",
            "Hello,my name is alice and I am 25 years\n"
          ]
        }
      ]
    },
    {
      "cell_type": "code",
      "source": [
        "\n",
        "class B:\n",
        "  def __init__(self,name):\n",
        "    self.name=name\n",
        "  def greet(self):\n",
        "    return f\"hello {self.name}\"\n",
        "\n",
        "class D1(B):\n",
        "  def __init__(self,name,age):\n",
        "    super().__init__(name)\n",
        "    self.age=age\n",
        "  def display_age(self):\n",
        "     return f\"{self.name} is {self.age} years old\"\n",
        "d=D1(\"bob\",20)\n",
        "print(d.name)\n",
        "print(d.age)\n",
        "print(d.greet())\n",
        "print(d.display_age())"
      ],
      "metadata": {
        "colab": {
          "base_uri": "https://localhost:8080/"
        },
        "id": "qmy9ZHXhBzMQ",
        "outputId": "98e0bd84-5fd5-438f-a694-2cde86739c4a"
      },
      "execution_count": null,
      "outputs": [
        {
          "output_type": "stream",
          "name": "stdout",
          "text": [
            "bob\n",
            "20\n",
            "hello bob\n",
            "bob is 20 years old\n"
          ]
        }
      ]
    },
    {
      "cell_type": "code",
      "source": [
        "class A:\n",
        "  def __init__(self):\n",
        "    print (\"this is class A\")\n",
        "class B(A):\n",
        "  def __init__(self):\n",
        "    super().__init__()\n",
        "    print (\"this is class B\")\n",
        "class C(B):\n",
        "  def __init__(self):\n",
        "    super().__init__()\n",
        "    print(\"this is class C\")\n",
        "\n",
        "c=C()\n",
        "print(c)"
      ],
      "metadata": {
        "colab": {
          "base_uri": "https://localhost:8080/"
        },
        "id": "3mWJqrdWFDAi",
        "outputId": "b42a53ae-c9e5-482a-817d-d89571fe2b51"
      },
      "execution_count": null,
      "outputs": [
        {
          "output_type": "stream",
          "name": "stdout",
          "text": [
            "this is class A\n",
            "this is class B\n",
            "this is class C\n",
            "<__main__.C object at 0x7a0398a02ef0>\n"
          ]
        }
      ]
    },
    {
      "cell_type": "code",
      "source": [
        "class A:\n",
        "  def __init__(self):\n",
        "    print(\"this is class A\")\n",
        "class B:\n",
        "  def __init__(self) :\n",
        "    print(\"this is class B\")\n",
        "class C(A,B):\n",
        "  def __init__(self):\n",
        "    super().__init__()\n",
        "\n",
        "    super(A,self).__init__()\n",
        "    print(\"this is class C\")\n",
        "\n",
        "class D(C):\n",
        "  def display(self):\n",
        "    print(\"this is class D\")\n",
        "d=D()\n",
        "d.display()"
      ],
      "metadata": {
        "colab": {
          "base_uri": "https://localhost:8080/"
        },
        "id": "1QROU6p3GN93",
        "outputId": "8f22c389-8fd1-40a5-e2c2-dc128d0c4302"
      },
      "execution_count": null,
      "outputs": [
        {
          "output_type": "stream",
          "name": "stdout",
          "text": [
            "this is class A\n",
            "this is class B\n",
            "this is class C\n",
            "this is class D\n"
          ]
        }
      ]
    },
    {
      "cell_type": "code",
      "source": [
        "#protected\n",
        "class B:\n",
        "  def __init__(self):\n",
        "    self._a=2\n",
        "class D(B):\n",
        "  def __init__(self):\n",
        "    B.__init__(self)\n",
        "    print(\"calling protected member of base class : \",self._a)\n",
        "    self._a=3\n",
        "    print(\"calling modified member of base class : \",self._a)\n",
        "obj1=D()\n",
        "obj2=B()\n",
        "print(\"accessing protected member of obj1 \",obj1._a)\n",
        "print(\"accessing protected member of obj2 \",obj2._a)\n"
      ],
      "metadata": {
        "colab": {
          "base_uri": "https://localhost:8080/"
        },
        "id": "PlVn3QGdJLvK",
        "outputId": "10fb3c5f-54b1-41fb-9d08-e2804ca0ae68"
      },
      "execution_count": null,
      "outputs": [
        {
          "output_type": "stream",
          "name": "stdout",
          "text": [
            "calling protected member of base class :  2\n",
            "calling modified member of base class :  3\n",
            "accessing protected member of obj1  3\n",
            "accessing protected member of obj2  2\n"
          ]
        }
      ]
    },
    {
      "cell_type": "code",
      "source": [
        "#private\n",
        "class B:\n",
        "  def __init__(self):\n",
        "    self._a=\"PCU\"\n",
        "    self.__c=\"PCU1\"\n",
        "class D(B):\n",
        "  def __init__(self):\n",
        "    B.__init__(self)\n",
        "\n",
        "    print(\"calling private member of base class : \",self.__c)\n",
        "obj1=B()\n",
        "print(obj1._a)\n",
        "\n"
      ],
      "metadata": {
        "colab": {
          "base_uri": "https://localhost:8080/"
        },
        "id": "0z3f2610LNfA",
        "outputId": "555faf71-2b5c-413d-a1e6-add3333f10cf"
      },
      "execution_count": null,
      "outputs": [
        {
          "output_type": "stream",
          "name": "stdout",
          "text": [
            "PCU\n"
          ]
        }
      ]
    }
  ]
}