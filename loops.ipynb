{
 "cells": [
  {
   "cell_type": "code",
   "execution_count": 1,
   "id": "194be30a-d806-4e2d-a7ee-4c0556959875",
   "metadata": {},
   "outputs": [
    {
     "name": "stdout",
     "output_type": "stream",
     "text": [
      "You are an adult.\n"
     ]
    }
   ],
   "source": [
    "#  Basic if statement\n",
    "age = 18\n",
    "\n",
    "if age >= 18:\n",
    "    print(\"You are an adult.\")"
   ]
  },
  {
   "cell_type": "code",
   "execution_count": 2,
   "id": "260c8f76-5719-4c28-b7a2-9b13d77931ee",
   "metadata": {},
   "outputs": [
    {
     "name": "stdout",
     "output_type": "stream",
     "text": [
      "You are a minor.\n"
     ]
    }
   ],
   "source": [
    "#  if-else statement\n",
    "age = 16\n",
    "\n",
    "if age >= 18:\n",
    "    print(\"You are an adult.\")\n",
    "else:\n",
    "    print(\"You are a minor.\")"
   ]
  },
  {
   "cell_type": "code",
   "execution_count": 3,
   "id": "772d7a68-bfa7-4116-9c45-36f0294b0768",
   "metadata": {},
   "outputs": [
    {
     "name": "stdout",
     "output_type": "stream",
     "text": [
      "Grade: B\n"
     ]
    }
   ],
   "source": [
    "#  if-elif-else statement\n",
    "score = 85\n",
    "\n",
    "if score >= 90:\n",
    "    print(\"Grade: A\")\n",
    "elif score >= 80:\n",
    "    print(\"Grade: B\")\n",
    "elif score >= 70:\n",
    "    print(\"Grade: C\")\n",
    "else:\n",
    "    print(\"Grade: D\")"
   ]
  },
  {
   "cell_type": "code",
   "execution_count": 4,
   "id": "93d5c9f3-c312-4200-baee-6cf1c6276668",
   "metadata": {},
   "outputs": [
    {
     "name": "stdout",
     "output_type": "stream",
     "text": [
      "You can enter the club.\n"
     ]
    }
   ],
   "source": [
    "#  Nested if statements\n",
    "age = 20\n",
    "has_permission = True\n",
    "\n",
    "if age >= 18:\n",
    "    if has_permission:\n",
    "        print(\"You can enter the club.\")\n",
    "    else:\n",
    "        print(\"You need permission to enter.\")\n",
    "else:\n",
    "    print(\"You are too young to enter.\")"
   ]
  },
  {
   "cell_type": "code",
   "execution_count": 5,
   "id": "191aa932-7a94-41f2-9f92-83f33a97aa38",
   "metadata": {},
   "outputs": [
    {
     "name": "stdout",
     "output_type": "stream",
     "text": [
      "0\n",
      "1\n",
      "2\n",
      "3\n",
      "4\n"
     ]
    }
   ],
   "source": [
    "\n",
    "for i in range(5):\n",
    "    print(i)"
   ]
  },
  {
   "cell_type": "code",
   "execution_count": 6,
   "id": "c5915fd3-8cad-473c-945c-69ad5890bb77",
   "metadata": {},
   "outputs": [
    {
     "name": "stdout",
     "output_type": "stream",
     "text": [
      "1 2 3 \n",
      "2 4 6 \n",
      "3 6 9 \n"
     ]
    }
   ],
   "source": [
    "# nested for\n",
    "for i in range(1, 4):  \n",
    "    for j in range(1, 4):  \n",
    "        print(i * j, end=' ')\n",
    "    print()  "
   ]
  },
  {
   "cell_type": "code",
   "execution_count": 7,
   "id": "c12d144d-7e37-4743-8ecd-9a5ae4683c19",
   "metadata": {},
   "outputs": [
    {
     "name": "stdout",
     "output_type": "stream",
     "text": [
      "0\n",
      "1\n",
      "2\n",
      "3\n",
      "4\n"
     ]
    }
   ],
   "source": [
    "# while basic\n",
    "count = 0\n",
    "while count < 5:\n",
    "    print(count)\n",
    "    count += 1 "
   ]
  },
  {
   "cell_type": "code",
   "execution_count": null,
   "id": "2606322b-d342-4b39-a004-ba8439c5c0d9",
   "metadata": {},
   "outputs": [],
   "source": []
  }
 ],
 "metadata": {
  "kernelspec": {
   "display_name": "Python 3 (ipykernel)",
   "language": "python",
   "name": "python3"
  },
  "language_info": {
   "codemirror_mode": {
    "name": "ipython",
    "version": 3
   },
   "file_extension": ".py",
   "mimetype": "text/x-python",
   "name": "python",
   "nbconvert_exporter": "python",
   "pygments_lexer": "ipython3",
   "version": "3.12.4"
  }
 },
 "nbformat": 4,
 "nbformat_minor": 5
}
