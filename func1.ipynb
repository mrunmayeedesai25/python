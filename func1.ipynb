{
  "nbformat": 4,
  "nbformat_minor": 0,
  "metadata": {
    "colab": {
      "provenance": []
    },
    "kernelspec": {
      "name": "python3",
      "display_name": "Python 3"
    },
    "language_info": {
      "name": "python"
    }
  },
  "cells": [
    {
      "cell_type": "code",
      "execution_count": null,
      "metadata": {
        "colab": {
          "base_uri": "https://localhost:8080/"
        },
        "id": "NYla4zUq5FZR",
        "outputId": "a0e9dd8a-55ee-44b3-ad2f-2c2efcc2923c"
      },
      "outputs": [
        {
          "output_type": "execute_result",
          "data": {
            "text/plain": [
              "7"
            ]
          },
          "metadata": {},
          "execution_count": 2
        }
      ],
      "source": [
        "def mul(x,y):\n",
        "  return x*y\n",
        "mul(1,7)\n"
      ]
    },
    {
      "cell_type": "code",
      "source": [
        "def max3(x,y,z):\n",
        "  return max2(x,max2(y,z))\n",
        "max3(1,7,3)"
      ],
      "metadata": {
        "colab": {
          "base_uri": "https://localhost:8080/"
        },
        "id": "ywJVk6wu7AC7",
        "outputId": "8d578ec4-3704-4e96-8dd2-0df5d0e7dbdb"
      },
      "execution_count": null,
      "outputs": [
        {
          "output_type": "execute_result",
          "data": {
            "text/plain": [
              "7"
            ]
          },
          "metadata": {},
          "execution_count": 7
        }
      ]
    },
    {
      "cell_type": "code",
      "source": [
        "def prime():\n",
        "  for i in range(2,101):\n",
        "    for j in range(2,i):\n",
        "      if i%j==0:\n",
        "        break\n",
        "    else:\n",
        "      print(i)\n",
        "prime()\n"
      ],
      "metadata": {
        "colab": {
          "base_uri": "https://localhost:8080/"
        },
        "id": "YGr5ih227KPh",
        "outputId": "5a1aeae2-513e-4fdf-8284-0b028434f778"
      },
      "execution_count": null,
      "outputs": [
        {
          "output_type": "stream",
          "name": "stdout",
          "text": [
            "2\n",
            "3\n",
            "5\n",
            "7\n",
            "11\n",
            "13\n",
            "17\n",
            "19\n",
            "23\n",
            "29\n",
            "31\n",
            "37\n",
            "41\n",
            "43\n",
            "47\n",
            "53\n",
            "59\n",
            "61\n",
            "67\n",
            "71\n",
            "73\n",
            "79\n",
            "83\n",
            "89\n",
            "97\n"
          ]
        }
      ]
    },
    {
      "cell_type": "code",
      "source": [
        "def prime_or_not(n):\n",
        "    if n>1:\n",
        "        for i in range(2,n):\n",
        "            if (n%i)==0:\n",
        "                print(n,\"is not a prime number\")\n",
        "                break\n",
        "        else:\n",
        "            print(n,\"is a prime number\")\n",
        "prime_or_not(7)"
      ],
      "metadata": {
        "colab": {
          "base_uri": "https://localhost:8080/"
        },
        "id": "G_eJOFvA8NWo",
        "outputId": "16e3c02f-2d9c-4249-b6f7-4e8fceb47ae7"
      },
      "execution_count": null,
      "outputs": [
        {
          "output_type": "stream",
          "name": "stdout",
          "text": [
            "7 is a prime number\n"
          ]
        }
      ]
    },
    {
      "cell_type": "code",
      "source": [
        "stack=[]\n",
        "def push(stack, item):\n",
        "    stack.append(item)\n",
        "    print(\"item pushed in stack\",item)\n",
        "def peek(stack):\n",
        "    if (len(stack) > 0):\n",
        "        return stack[-1]\n",
        "\n",
        "    else:\n",
        "        print(\"stack is empty\")\n",
        "        return None\n",
        "def pop(stack):\n",
        "    if (len(stack) > 0):\n",
        "        return stack.pop()\n",
        "    else:\n",
        "        return(\"stack is empty\")\n",
        "push(stack,1)\n",
        "push(stack,2)\n",
        "push(stack,3)\n",
        "pop(stack)\n",
        "peek(stack)\n"
      ],
      "metadata": {
        "colab": {
          "base_uri": "https://localhost:8080/"
        },
        "id": "PkQ9Vzkf-zRs",
        "outputId": "8e9845d2-59bb-43f5-efbf-c1baf0605e20"
      },
      "execution_count": null,
      "outputs": [
        {
          "output_type": "stream",
          "name": "stdout",
          "text": [
            "item pushed in stack 1\n",
            "item pushed in stack 2\n",
            "item pushed in stack 3\n"
          ]
        },
        {
          "output_type": "execute_result",
          "data": {
            "text/plain": [
              "2"
            ]
          },
          "metadata": {},
          "execution_count": 16
        }
      ]
    },
    {
      "cell_type": "code",
      "source": [
        "def bubble_sort(arr):\n",
        "    n = len(arr)\n",
        "    for i in range(n):\n",
        "        for j in range(0, n-i-1):\n",
        "            if arr[j] > arr[j+1]:\n",
        "                arr[j], arr[j+1] = arr[j+1], arr[j]\n",
        "                print(arr)\n",
        "arr = [64, 34, 25, 12, 22]\n",
        "bubble_sort(arr)"
      ],
      "metadata": {
        "colab": {
          "base_uri": "https://localhost:8080/"
        },
        "id": "sU8wOCrrFPmv",
        "outputId": "450b1ffe-190a-4a45-eb79-f5d122f8a863"
      },
      "execution_count": null,
      "outputs": [
        {
          "output_type": "stream",
          "name": "stdout",
          "text": [
            "[34, 64, 25, 12, 22]\n",
            "[34, 25, 64, 12, 22]\n",
            "[34, 25, 12, 64, 22]\n",
            "[34, 25, 12, 22, 64]\n",
            "[25, 34, 12, 22, 64]\n",
            "[25, 12, 34, 22, 64]\n",
            "[25, 12, 22, 34, 64]\n",
            "[12, 25, 22, 34, 64]\n",
            "[12, 22, 25, 34, 64]\n"
          ]
        }
      ]
    },
    {
      "cell_type": "code",
      "source": [],
      "metadata": {
        "id": "62FmQcVeG8Zr"
      },
      "execution_count": null,
      "outputs": []
    }
  ]
}