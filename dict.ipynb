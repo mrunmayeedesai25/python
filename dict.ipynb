{
 "cells": [
  {
   "cell_type": "code",
   "execution_count": 5,
   "id": "e488f64d-dcc7-4c84-b655-8285be4016bd",
   "metadata": {},
   "outputs": [
    {
     "name": "stdout",
     "output_type": "stream",
     "text": [
      "{1: 'apple', 2: 'banana', 3: 'orange'}\n",
      "<dict_reversekeyiterator object at 0x00000145C24944A0>\n"
     ]
    }
   ],
   "source": [
    "d={1:\"apple\",2:\"banana\",3:\"orange\"}\n",
    "print(d)\n",
    "z=reversed(d)\n",
    "print(z)"
   ]
  },
  {
   "cell_type": "code",
   "execution_count": 10,
   "id": "1af49d0a-4bab-41f2-8526-6f27a62716da",
   "metadata": {},
   "outputs": [
    {
     "name": "stdout",
     "output_type": "stream",
     "text": [
      "{'name': 'abc', 'age': '22', 'city': 'pune'}\n",
      "{'name': 'abc', 'city': 'pune'}\n"
     ]
    }
   ],
   "source": [
    "d={\"name\":\"abc\",\"age\":\"22\",\"city\":\"pune\"}\n",
    "print(d)\n",
    "d.pop(\"age\")\n",
    "print(d)"
   ]
  },
  {
   "cell_type": "code",
   "execution_count": 13,
   "id": "ad419d8f-fb55-4c99-b807-6bafd8c01564",
   "metadata": {},
   "outputs": [
    {
     "name": "stdout",
     "output_type": "stream",
     "text": [
      "{1, 2}\n",
      "{1, 2, 3, 4, 5, 6}\n"
     ]
    }
   ],
   "source": [
    "s1={1,2,3,4}\n",
    "s2={3,4,5,6}\n",
    "s=s1.difference(s2)\n",
    "print(s)\n",
    "set=s1.union(s2)\n",
    "print(set)"
   ]
  },
  {
   "cell_type": "code",
   "execution_count": 1,
   "id": "f0a79cb8-a4ba-43df-8949-b0dcb185e78f",
   "metadata": {},
   "outputs": [
    {
     "name": "stdout",
     "output_type": "stream",
     "text": [
      "dict_keys(['brand', 'model', 'year'])\n",
      "dict_keys(['brand', 'model', 'year', 'color'])\n"
     ]
    }
   ],
   "source": [
    "car = { \n",
    "\"brand\" : \"Ford\" , \n",
    "\"model\" : \"Mustang\" , \n",
    "\"year\" : 1964 \n",
    "} \n",
    "x = car.keys() \n",
    "print (x) #before the change \n",
    "car[\"color\" ] = \"white\" \n",
    "print (x) #after the change\n"
   ]
  },
  {
   "cell_type": "code",
   "execution_count": 2,
   "id": "36e0edc2-e2b3-4a9d-a76f-21a1c5b507ed",
   "metadata": {},
   "outputs": [
    {
     "name": "stdout",
     "output_type": "stream",
     "text": [
      "dict_items([('brand', 'Ford'), ('model', 'Mustang'), ('year', 1964)])\n",
      "dict_items([('brand', 'Ford'), ('model', 'Mustang'), ('year', 2020)])\n"
     ]
    }
   ],
   "source": [
    "car = { \n",
    "\"brand\" : \"Ford\" , \n",
    "\"model\" : \"Mustang\" , \n",
    "\"year\" : 1964 \n",
    "} \n",
    "x = car.items() \n",
    "print (x) #before the change \n",
    "car[\"year\" ] = 2020 \n",
    "print (x) #after the change"
   ]
  },
  {
   "cell_type": "code",
   "execution_count": 7,
   "id": "c66e1d46-542e-437d-8d71-0375e19fe4a3",
   "metadata": {},
   "outputs": [
    {
     "name": "stdout",
     "output_type": "stream",
     "text": [
      "a\n",
      "b\n"
     ]
    }
   ],
   "source": [
    "d={1:\"a\",2:\"b\"}\n",
    "for x in d:\n",
    "    print(d[x])\n",
    "    "
   ]
  },
  {
   "cell_type": "code",
   "execution_count": 9,
   "id": "7bfedf1f-9e99-4150-b452-5068fad71d21",
   "metadata": {},
   "outputs": [
    {
     "name": "stdout",
     "output_type": "stream",
     "text": [
      "['apple', 'banana', 'cherry']\n"
     ]
    }
   ],
   "source": [
    "thislist = list((\"apple\" , \"banana\" , \"cherry\" )) # note the double round-brackets \n",
    "\n",
    "print (thislist) "
   ]
  },
  {
   "cell_type": "code",
   "execution_count": 10,
   "id": "a3b1b55c-09c1-4b5e-a8fb-72d23be9fb2c",
   "metadata": {},
   "outputs": [
    {
     "name": "stdout",
     "output_type": "stream",
     "text": [
      "['orange', 'kiwi', 'melon']\n"
     ]
    }
   ],
   "source": [
    "thislist = [\"apple\" , \"banana\" , \"cherry\" , \"orange\" , \"kiwi\" , \n",
    "\"melon\" , \"mango\" ] \n",
    "print (thislist[-4 :-1 ]) "
   ]
  },
  {
   "cell_type": "code",
   "execution_count": 11,
   "id": "4c430eb3-c898-4ac2-8c3f-a6ad169dc46d",
   "metadata": {},
   "outputs": [
    {
     "name": "stdout",
     "output_type": "stream",
     "text": [
      "['apple', 'blackcurrant', 'watermelon', 'orange', 'kiwi', 'mango']\n"
     ]
    }
   ],
   "source": [
    "thislist = [\"apple\" , \"banana\" , \"cherry\" , \"orange\" , \"kiwi\" , \n",
    "\"mango\" ] \n",
    "thislist [1 :3 ] = [\"blackcurrant\" , \"watermelon\" ] \n",
    "print (thislist) "
   ]
  },
  {
   "cell_type": "code",
   "execution_count": 14,
   "id": "c14ab8a0-5b93-430c-97dd-3f005f6cb920",
   "metadata": {},
   "outputs": [
    {
     "name": "stdout",
     "output_type": "stream",
     "text": [
      "['apple', 'watermelon']\n"
     ]
    }
   ],
   "source": [
    "thislist = [\"apple\" , \"banana\" , \"cherry\" ] \n",
    "thislist[1 :3 ] = [\"watermelon\" ]\n",
    "print(thislist)"
   ]
  },
  {
   "cell_type": "code",
   "execution_count": 15,
   "id": "1139ea40-3ed6-43c9-94c8-d9bf09bc1afa",
   "metadata": {},
   "outputs": [
    {
     "name": "stdout",
     "output_type": "stream",
     "text": [
      "['apple', 'blackcurrant', 'watermelon', 'cherry']\n"
     ]
    }
   ],
   "source": [
    "thislist = [\"apple\" , \"banana\" , \"cherry\" ] \n",
    "thislist[1 :2 ] = [\"blackcurrant\" , \"watermelon\" ] \n",
    "print (thislist) "
   ]
  },
  {
   "cell_type": "code",
   "execution_count": 16,
   "id": "224421a8-4dac-4801-aebe-4af88a133042",
   "metadata": {},
   "outputs": [
    {
     "name": "stdout",
     "output_type": "stream",
     "text": [
      "['apple', 'orange', 'banana', 'cherry']\n"
     ]
    }
   ],
   "source": [
    "thislist = [\"apple\" , \"banana\" , \"cherry\" ] \n",
    "thislist.insert(1 , \"orange\" ) \n",
    "print (thislist) "
   ]
  },
  {
   "cell_type": "code",
   "execution_count": 17,
   "id": "c60f9f87-2b06-46fe-9a4a-efc8eecbf0b1",
   "metadata": {},
   "outputs": [
    {
     "name": "stdout",
     "output_type": "stream",
     "text": [
      "['apple', 'banana', 'cherry', 'kiwi', 'orange']\n"
     ]
    }
   ],
   "source": [
    "thislist = [\"apple\" , \"banana\" , \"cherry\" ] \n",
    "thistuple = (\"kiwi\" , \"orange\" ) \n",
    "thislist.extend(thistuple) \n",
    "print (thislist)"
   ]
  },
  {
   "cell_type": "code",
   "execution_count": null,
   "id": "9bad805e-7eba-4b5b-8970-823719aa9086",
   "metadata": {},
   "outputs": [],
   "source": [
    "thislist = [\"apple\" , \"banana\" , \"cherry\" ] \n",
    "i = 0 \n",
    "while i < len (thislist): \n",
    "    print (thislist[i]) \n",
    "i = i + 1 "
   ]
  },
  {
   "cell_type": "code",
   "execution_count": null,
   "id": "5ff26edc-f33e-4c04-bf7c-ec97d7850c9a",
   "metadata": {},
   "outputs": [],
   "source": [
    "fruits = [\"apple\" , \"banana\" , \"cherry\" , \"kiwi\" , \"mango\" ] \n",
    "newlist = [] \n",
    "for x in fruits: \n",
    "    if \"a\" in x: \n",
    "        newlist.append(x) \n",
    "         print (newlist) "
   ]
  }
 ],
 "metadata": {
  "kernelspec": {
   "display_name": "Python 3 (ipykernel)",
   "language": "python",
   "name": "python3"
  },
  "language_info": {
   "codemirror_mode": {
    "name": "ipython",
    "version": 3
   },
   "file_extension": ".py",
   "mimetype": "text/x-python",
   "name": "python",
   "nbconvert_exporter": "python",
   "pygments_lexer": "ipython3",
   "version": "3.12.4"
  }
 },
 "nbformat": 4,
 "nbformat_minor": 5
}
