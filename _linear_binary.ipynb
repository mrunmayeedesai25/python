{
 "cells": [
  {
   "cell_type": "code",
   "execution_count": 2,
   "id": "99868ea0-e0e3-4532-a24f-6d2e19f4e273",
   "metadata": {},
   "outputs": [
    {
     "name": "stdin",
     "output_type": "stream",
     "text": [
      "Enter the number of elements you want in your Array:  5\n",
      "Enter Element 1:  45\n",
      "Enter Element 2:  67\n",
      "Enter Element 3:  2\n",
      "Enter Element 4:  89\n",
      "Enter Element 5:  0\n"
     ]
    },
    {
     "name": "stdout",
     "output_type": "stream",
     "text": [
      "45,67,2,89,0\n"
     ]
    },
    {
     "name": "stdin",
     "output_type": "stream",
     "text": [
      "Enter the element you want to find in your array: 7\n"
     ]
    },
    {
     "name": "stdout",
     "output_type": "stream",
     "text": [
      "Element cannot be found in the Array\n"
     ]
    }
   ],
   "source": [
    "arr=[] \n",
    "n=int(input(\"Enter the number of elements you want in your Array: \")) \n",
    "for i in range(n): \n",
    "    arr.append(int(input(f\"Enter Element {i+1}: \"))) \n",
    "print(*arr, sep=\",\") \n",
    "value=int(input(\"Enter the element you want to find in your array:\")) \n",
    "count=0 \n",
    "for i in range(n): \n",
    "    if arr[i]==value: \n",
    "        count+=1 \n",
    "        break \n",
    "if count==1: \n",
    "    print(f\"The index at which {value} can be found is {i}\") \n",
    "else: \n",
    "    print(\"Element cannot be found in the Array\")"
   ]
  },
  {
   "cell_type": "code",
   "execution_count": 8,
   "id": "0b3e99b2-a590-4ff5-aa1d-0dec31069714",
   "metadata": {},
   "outputs": [
    {
     "name": "stdin",
     "output_type": "stream",
     "text": [
      "Enter string 1:  mrunmayee\n",
      "Enter string 2:  desai\n",
      "Enter string 3:  pcu\n",
      "Enter string 4:  f\n",
      "Enter string 5:  gg\n"
     ]
    },
    {
     "name": "stdout",
     "output_type": "stream",
     "text": [
      "Sorted list of strings:, desai, f, gg, mrunmayee, pcu\n"
     ]
    },
    {
     "name": "stdin",
     "output_type": "stream",
     "text": [
      "Enter the string you want to find:  f\n"
     ]
    },
    {
     "name": "stdout",
     "output_type": "stream",
     "text": [
      "The string 'f' is found at index 1\n"
     ]
    }
   ],
   "source": [
    "arr = [] \n",
    "for i in range(10): \n",
    "    arr.append(input(f\"Enter char {i + 1}: \")) \n",
    "arr.sort() \n",
    "print(\"Sorted list of strings:\", *arr, sep=\", \") \n",
    "value = input(\"Enter the string you want to find: \") \n",
    "low = 0 \n",
    "high = len(arr) - 1 \n",
    "found = False \n",
    "while low <= high: \n",
    "    mid = (low + high) // 2 \n",
    "    if arr[mid] == value: \n",
    "        print(f\"The string '{value}' is found at index {mid}\") \n",
    "        found = True \n",
    "        break \n",
    "    elif arr[mid] < value: \n",
    "        low = mid + 1 \n",
    "    else: \n",
    "        high = mid - 1 \n",
    "if not found: \n",
    "    print(\"String cannot be found in the list\")"
   ]
  },
  {
   "cell_type": "code",
   "execution_count": null,
   "id": "5c556043-0dcd-4ce6-8a76-885f97dcee55",
   "metadata": {},
   "outputs": [],
   "source": []
  }
 ],
 "metadata": {
  "kernelspec": {
   "display_name": "Python 3 (ipykernel)",
   "language": "python",
   "name": "python3"
  },
  "language_info": {
   "codemirror_mode": {
    "name": "ipython",
    "version": 3
   },
   "file_extension": ".py",
   "mimetype": "text/x-python",
   "name": "python",
   "nbconvert_exporter": "python",
   "pygments_lexer": "ipython3",
   "version": "3.12.4"
  }
 },
 "nbformat": 4,
 "nbformat_minor": 5
}
